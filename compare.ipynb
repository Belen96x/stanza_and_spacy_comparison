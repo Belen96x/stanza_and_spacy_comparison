{
 "cells": [
  {
   "cell_type": "code",
   "execution_count": null,
   "id": "061cda3c",
   "metadata": {},
   "outputs": [],
   "source": [
    "# Libraries (will need to export to requirements.txt)"
   ]
  },
  {
   "cell_type": "code",
   "execution_count": null,
   "id": "3fbb0815",
   "metadata": {},
   "outputs": [],
   "source": [
    "category_1 = '' # Give the category of entities for the first category\n",
    "category_2 = '' # Give the category of entities for the second category"
   ]
  },
  {
   "cell_type": "code",
   "execution_count": null,
   "id": "aac7facc",
   "metadata": {},
   "outputs": [],
   "source": [
    "# Pull 100 biographies from wikipedia for each category"
   ]
  },
  {
   "cell_type": "code",
   "execution_count": 1,
   "id": "0f32e61d",
   "metadata": {},
   "outputs": [],
   "source": [
    "# Create 50 most common word per category and word cloud"
   ]
  },
  {
   "cell_type": "code",
   "execution_count": 2,
   "id": "eccac316",
   "metadata": {},
   "outputs": [],
   "source": [
    "# Create histogram and boxplot for sentence length per category with min/max/avg"
   ]
  },
  {
   "cell_type": "code",
   "execution_count": null,
   "id": "dd237534",
   "metadata": {},
   "outputs": [],
   "source": [
    "# ?? Total number of bi-gram occurences per category. min/max/avg"
   ]
  },
  {
   "cell_type": "code",
   "execution_count": 3,
   "id": "a6e90763",
   "metadata": {},
   "outputs": [],
   "source": [
    "# Query rdf properties for 50 most frequent properties (I think this means predicates) and create word cloud"
   ]
  },
  {
   "cell_type": "code",
   "execution_count": null,
   "id": "39d525a2",
   "metadata": {},
   "outputs": [],
   "source": [
    "# Create histograms and boxplot for number of facts per category. min/max/avg"
   ]
  },
  {
   "cell_type": "code",
   "execution_count": null,
   "id": "0d5b2f2f",
   "metadata": {},
   "outputs": [],
   "source": [
    "# Train KMeans clustering (n_clusters=2). Cluster based on text (?) and, separately, on facts"
   ]
  },
  {
   "cell_type": "code",
   "execution_count": null,
   "id": "a2bf7583",
   "metadata": {},
   "outputs": [],
   "source": [
    "# Compute supervised and unsupervised metrics and visualizations to compare results"
   ]
  },
  {
   "cell_type": "code",
   "execution_count": null,
   "id": "4c14b71e",
   "metadata": {},
   "outputs": [],
   "source": [
    "# Function that process a document and return the set of named entities(NEs) (Spacy)"
   ]
  },
  {
   "cell_type": "code",
   "execution_count": null,
   "id": "972fa477",
   "metadata": {},
   "outputs": [],
   "source": [
    "# Same as above but with Stanza"
   ]
  },
  {
   "cell_type": "code",
   "execution_count": null,
   "id": "2f4aba20",
   "metadata": {},
   "outputs": [],
   "source": [
    "# Get statistics for each output (avg/min/max number of NEs)"
   ]
  },
  {
   "cell_type": "code",
   "execution_count": null,
   "id": "eb6dab1c",
   "metadata": {},
   "outputs": [],
   "source": [
    "# Get statistics for each output (avg/min/max number of words (unclear use of word 'word'))"
   ]
  },
  {
   "cell_type": "code",
   "execution_count": null,
   "id": "c981ee13",
   "metadata": {},
   "outputs": [],
   "source": [
    "# Visualize the above 2 statistics (per category, per package)"
   ]
  },
  {
   "cell_type": "code",
   "execution_count": null,
   "id": "081afa5d",
   "metadata": {},
   "outputs": [],
   "source": [
    "# Write a function that takes a single document and performs the following 5 tasks"
   ]
  },
  {
   "cell_type": "code",
   "execution_count": null,
   "id": "cda8049b",
   "metadata": {},
   "outputs": [],
   "source": [
    "    # Returns # of spans that both packages agree on"
   ]
  },
  {
   "cell_type": "code",
   "execution_count": null,
   "id": "99150ee8",
   "metadata": {},
   "outputs": [],
   "source": [
    "    # Returns # of partial agreements on spans"
   ]
  },
  {
   "cell_type": "code",
   "execution_count": null,
   "id": "e4320027",
   "metadata": {},
   "outputs": [],
   "source": [
    "    # Returns for each package # of spans that one package predicted as a NE and the other did not"
   ]
  },
  {
   "cell_type": "code",
   "execution_count": null,
   "id": "9b315a7f",
   "metadata": {},
   "outputs": [],
   "source": [
    "    # Returns for all spans with full and partial agreement, agreement about NE types (aka Person, Location, Organisation, etc.)"
   ]
  },
  {
   "cell_type": "code",
   "execution_count": null,
   "id": "185e3eb6",
   "metadata": {},
   "outputs": [],
   "source": [
    "    # Visualize the above statistics"
   ]
  },
  {
   "cell_type": "code",
   "execution_count": null,
   "id": "67f921ca",
   "metadata": {},
   "outputs": [],
   "source": [
    "# For each set of NEs predicted by each package, how many of them can be found in the knowledge graph (KG)"
   ]
  },
  {
   "cell_type": "code",
   "execution_count": null,
   "id": "f1e5d558",
   "metadata": {},
   "outputs": [],
   "source": [
    "# For each package, the ratio of predicted NEs that can be found in the KG of a person"
   ]
  },
  {
   "cell_type": "code",
   "execution_count": null,
   "id": "7f390bf6",
   "metadata": {},
   "outputs": [],
   "source": [
    "# Bonus points"
   ]
  }
 ],
 "metadata": {
  "kernelspec": {
   "display_name": "Python 3 (ipykernel)",
   "language": "python",
   "name": "python3"
  },
  "language_info": {
   "codemirror_mode": {
    "name": "ipython",
    "version": 3
   },
   "file_extension": ".py",
   "mimetype": "text/x-python",
   "name": "python",
   "nbconvert_exporter": "python",
   "pygments_lexer": "ipython3",
   "version": "3.9.2"
  }
 },
 "nbformat": 4,
 "nbformat_minor": 5
}
